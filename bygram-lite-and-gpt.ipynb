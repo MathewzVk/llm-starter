{
 "cells": [
  {
   "cell_type": "code",
   "execution_count": 1,
   "id": "df79b5c6",
   "metadata": {
    "execution": {
     "iopub.execute_input": "2024-03-06T18:25:37.680326Z",
     "iopub.status.busy": "2024-03-06T18:25:37.679634Z",
     "iopub.status.idle": "2024-03-06T18:25:37.711776Z",
     "shell.execute_reply": "2024-03-06T18:25:37.710693Z"
    },
    "papermill": {
     "duration": 0.040858,
     "end_time": "2024-03-06T18:25:37.713827",
     "exception": false,
     "start_time": "2024-03-06T18:25:37.672969",
     "status": "completed"
    },
    "scrolled": true,
    "tags": []
   },
   "outputs": [
    {
     "name": "stdout",
     "output_type": "stream",
     "text": [
      "['\\n', ' ', '!', '\"', '&', \"'\", '(', ')', '*', ',', '-', '.', '0', '1', '2', '3', '4', '5', '6', '7', '8', '9', ':', ';', '?', 'A', 'B', 'C', 'D', 'E', 'F', 'G', 'H', 'I', 'J', 'K', 'L', 'M', 'N', 'O', 'P', 'Q', 'R', 'S', 'T', 'U', 'V', 'W', 'X', 'Y', 'Z', '[', ']', '_', 'a', 'b', 'c', 'd', 'e', 'f', 'g', 'h', 'i', 'j', 'k', 'l', 'm', 'n', 'o', 'p', 'q', 'r', 's', 't', 'u', 'v', 'w', 'x', 'y', 'z', '\\ufeff']\n"
     ]
    }
   ],
   "source": [
    "chars = \"\"\n",
    "with open('/kaggle/input/dataset/wizard_oz.txt', 'r', encoding='utf-8') as f:\n",
    "    text=f.read()\n",
    "    chars = sorted(list(set(text)))\n",
    "print(chars)\n",
    "vocab_size = len(chars)"
   ]
  },
  {
   "cell_type": "code",
   "execution_count": 2,
   "id": "ff7579df",
   "metadata": {
    "execution": {
     "iopub.execute_input": "2024-03-06T18:25:37.724471Z",
     "iopub.status.busy": "2024-03-06T18:25:37.724193Z",
     "iopub.status.idle": "2024-03-06T18:25:37.729417Z",
     "shell.execute_reply": "2024-03-06T18:25:37.728603Z"
    },
    "papermill": {
     "duration": 0.012641,
     "end_time": "2024-03-06T18:25:37.731370",
     "exception": false,
     "start_time": "2024-03-06T18:25:37.718729",
     "status": "completed"
    },
    "tags": []
   },
   "outputs": [],
   "source": [
    "string_to_int = { ch:i for i, ch in enumerate(chars) }\n",
    "int_to_string = { i:ch for i, ch in enumerate(chars) }\n",
    "encode = lambda s: [string_to_int[c] for c in s]\n",
    "decode = lambda l: ''.join([int_to_string[i] for i in l])"
   ]
  },
  {
   "cell_type": "code",
   "execution_count": 3,
   "id": "0c3cee0b",
   "metadata": {
    "execution": {
     "iopub.execute_input": "2024-03-06T18:25:37.741445Z",
     "iopub.status.busy": "2024-03-06T18:25:37.741191Z",
     "iopub.status.idle": "2024-03-06T18:25:42.140798Z",
     "shell.execute_reply": "2024-03-06T18:25:42.139615Z"
    },
    "papermill": {
     "duration": 4.40757,
     "end_time": "2024-03-06T18:25:42.143300",
     "exception": false,
     "start_time": "2024-03-06T18:25:37.735730",
     "status": "completed"
    },
    "tags": []
   },
   "outputs": [
    {
     "name": "stdout",
     "output_type": "stream",
     "text": [
      "cuda\n"
     ]
    }
   ],
   "source": [
    "import torch\n",
    "import torch.nn as nn\n",
    "from torch.nn import functional as F\n",
    "device = 'cuda' if torch.cuda.is_available() else 'cpu'\n",
    "print(device)\n",
    "\n",
    "block_size = 64\n",
    "batch_size = 128\n",
    "max_iters = 3000\n",
    "learning_rate = 3e-4\n",
    "eval_iters = 100\n",
    "n_embd = 384\n",
    "n_layer = 8\n",
    "n_head = 8\n",
    "dropout = 0.2"
   ]
  },
  {
   "cell_type": "code",
   "execution_count": 4,
   "id": "bf380ff0",
   "metadata": {
    "execution": {
     "iopub.execute_input": "2024-03-06T18:25:42.154292Z",
     "iopub.status.busy": "2024-03-06T18:25:42.153888Z",
     "iopub.status.idle": "2024-03-06T18:25:42.257071Z",
     "shell.execute_reply": "2024-03-06T18:25:42.255826Z"
    },
    "papermill": {
     "duration": 0.110818,
     "end_time": "2024-03-06T18:25:42.259228",
     "exception": false,
     "start_time": "2024-03-06T18:25:42.148410",
     "status": "completed"
    },
    "tags": []
   },
   "outputs": [
    {
     "name": "stdout",
     "output_type": "stream",
     "text": [
      "tensor([80,  1,  1, 28, 39, 42, 39, 44, 32, 49,  1, 25, 38, 28,  1, 44, 32, 29,\n",
      "         1, 47, 33, 50, 25, 42, 28,  1, 33, 38,  1, 39, 50,  0,  0,  1,  1, 26,\n",
      "        49,  0,  0,  1,  1, 36, 11,  1, 30, 42, 25, 38, 35,  1, 26, 25, 45, 37,\n",
      "         0,  0,  1,  1, 25, 45, 44, 32, 39, 42,  1, 39, 30,  1, 44, 32, 29,  1,\n",
      "        47, 33, 50, 25, 42, 28,  1, 39, 30,  1, 39, 50,  9,  1, 44, 32, 29,  1,\n",
      "        36, 25, 38, 28,  1, 39, 30,  1, 39, 50])\n"
     ]
    }
   ],
   "source": [
    "data = torch.tensor(encode(text), dtype=torch.long)\n",
    "print(data[:100])"
   ]
  },
  {
   "cell_type": "code",
   "execution_count": 5,
   "id": "8277d484",
   "metadata": {
    "execution": {
     "iopub.execute_input": "2024-03-06T18:25:42.270475Z",
     "iopub.status.busy": "2024-03-06T18:25:42.270113Z",
     "iopub.status.idle": "2024-03-06T18:25:42.524613Z",
     "shell.execute_reply": "2024-03-06T18:25:42.523604Z"
    },
    "papermill": {
     "duration": 0.263655,
     "end_time": "2024-03-06T18:25:42.527904",
     "exception": false,
     "start_time": "2024-03-06T18:25:42.264249",
     "status": "completed"
    },
    "tags": []
   },
   "outputs": [
    {
     "name": "stdout",
     "output_type": "stream",
     "text": [
      "inputs:\n",
      "tensor([[68, 57, 78,  ...,  1, 78, 68],\n",
      "        [73,  0, 76,  ..., 61, 58, 72],\n",
      "        [ 1, 59, 71,  ..., 61, 58,  1],\n",
      "        ...,\n",
      "        [54, 67,  1,  ..., 68, 69,  1],\n",
      "        [68, 67, 60,  ...,  1, 73, 61],\n",
      "        [67, 57,  1,  ..., 73, 54, 71]], device='cuda:0')\n",
      "targets:\n",
      "tensor([[57, 78,  1,  ..., 78, 68, 74],\n",
      "        [ 0, 76, 68,  ..., 58, 72, 58],\n",
      "        [59, 71, 68,  ..., 58,  1, 76],\n",
      "        ...,\n",
      "        [67,  1, 76,  ..., 69,  1, 73],\n",
      "        [67, 60, 58,  ..., 73, 61, 58],\n",
      "        [57,  1, 73,  ..., 54, 71, 73]], device='cuda:0')\n"
     ]
    }
   ],
   "source": [
    "n = int(0.8*len(data))\n",
    "train_data = data[:n]\n",
    "val_data = data[n:]\n",
    "\n",
    "def get_batch(split):\n",
    "    data = train_data if split == 'train' else val_data\n",
    "    ix = torch.randint(len(data) - block_size, (batch_size,))\n",
    "    x = torch.stack([data[i:i+block_size] for i in ix])\n",
    "    y = torch.stack([data[i+1:i+block_size+1] for i in ix])\n",
    "    x, y = x.to(device), y.to(device)\n",
    "    return x, y\n",
    "\n",
    "x, y = get_batch('train')\n",
    "print('inputs:')\n",
    "# print(x.shape)\n",
    "print(x)\n",
    "print('targets:')\n",
    "print(y)\n",
    "\n"
   ]
  },
  {
   "cell_type": "code",
   "execution_count": 6,
   "id": "b0419a9c",
   "metadata": {
    "execution": {
     "iopub.execute_input": "2024-03-06T18:25:42.540439Z",
     "iopub.status.busy": "2024-03-06T18:25:42.539678Z",
     "iopub.status.idle": "2024-03-06T18:25:42.546278Z",
     "shell.execute_reply": "2024-03-06T18:25:42.545366Z"
    },
    "papermill": {
     "duration": 0.014918,
     "end_time": "2024-03-06T18:25:42.548209",
     "exception": false,
     "start_time": "2024-03-06T18:25:42.533291",
     "status": "completed"
    },
    "tags": []
   },
   "outputs": [],
   "source": [
    "@torch.no_grad()\n",
    "def estimate_loss():\n",
    "    out = {}\n",
    "    model.eval()\n",
    "    for split in ['train', 'val']:\n",
    "        losses = torch.zeros(eval_iters)\n",
    "        for k in range(eval_iters):\n",
    "            X, Y = get_batch(split)\n",
    "            logits, loss = model(X, Y)\n",
    "            losses[k] = loss.item()\n",
    "        out[split] = losses.mean()\n",
    "    model.train()\n",
    "    return out"
   ]
  },
  {
   "cell_type": "code",
   "execution_count": 7,
   "id": "910fdf39",
   "metadata": {
    "execution": {
     "iopub.execute_input": "2024-03-06T18:25:42.559631Z",
     "iopub.status.busy": "2024-03-06T18:25:42.559331Z",
     "iopub.status.idle": "2024-03-06T18:25:43.414321Z",
     "shell.execute_reply": "2024-03-06T18:25:43.413288Z"
    },
    "papermill": {
     "duration": 0.863514,
     "end_time": "2024-03-06T18:25:43.416702",
     "exception": false,
     "start_time": "2024-03-06T18:25:42.553188",
     "status": "completed"
    },
    "tags": []
   },
   "outputs": [
    {
     "name": "stdout",
     "output_type": "stream",
     "text": [
      "\n",
      "fnGyvh RfkAP'h\"C6gibEsxnNI2;iAoIx9eg\n",
      "7*TGu[i_b﻿J5 3Z*q9U7s_DWLdKT6-oTGHivB1s1OPA8\"*0mH!Ed:eEWngAvQRr8ek2fL﻿0vr9DEBT79xJdsL(zv\"sx_*tuL!kM9BAVr\"P'7XDZmyXrWj&cqD?sP's_0'q12K]wYLgMF0Yc89QUZ'*ZQG8)2s_0mK9MHC5*Tp]9I]CwhbhJmxgk3FM,wsgk'w-cTxE2XoGo2,]1h;ISiA\n",
      "jAqRR\"5.RH]BLi6-]MYGsMY1U7(*rMMpk\n",
      "zoATh DmK9iTwdK9]VEt3R-\"NBV\"M;)F.J47v,,c_I:9﻿o.1s0XLgv,HSYo)rrMM﻿mxiU;iaPaIFXiOp]0PC'[11ARuuU]iTTwl'nCFS*.l;r8VMU5 'lm;j.:Bf,K[gEmcaSgiF\"UL\n",
      "jQ.P9J_m.O]:dzo*,WN1p8emV6j?Y.vzmxZ6-]osAGEx&SB﻿p(gv70MZ0g(*GYgumxwX467(S)j\n"
     ]
    }
   ],
   "source": [
    "class BigramLanguageModel(nn.Module):\n",
    "    def __init__(self, vocab_size):\n",
    "        super().__init__()\n",
    "        self.token_embedding_table = nn.Embedding(vocab_size, vocab_size)\n",
    "        \n",
    "    def forward(self, index, targets=None):\n",
    "        logits = self.token_embedding_table(index)\n",
    "        \n",
    "        \n",
    "        if targets is None:\n",
    "            loss = None\n",
    "        else:\n",
    "            B, T, C = logits.shape\n",
    "            logits = logits.view(B*T, C)\n",
    "            targets = targets.view(B*T)\n",
    "            loss = F.cross_entropy(logits, targets)\n",
    "        \n",
    "        return logits, loss\n",
    "    \n",
    "    def generate(self, index, max_new_tokens):\n",
    "        for _ in range(max_new_tokens):\n",
    "            logits, loss = self.forward(index)\n",
    "            logits = logits[:, -1, :]\n",
    "            probs = F.softmax(logits, dim=-1)\n",
    "            index_next = torch.multinomial(probs, num_samples=1)\n",
    "            index = torch.cat((index, index_next), dim=1)\n",
    "        return index\n",
    "\n",
    "model = BigramLanguageModel(vocab_size)\n",
    "m = model.to(device)\n",
    "\n",
    "context = torch.zeros((1,1), dtype=torch.long, device=device)\n",
    "generated_chars = decode(m.generate(context, max_new_tokens=500)[0].tolist())\n",
    "print(generated_chars)\n"
   ]
  },
  {
   "cell_type": "code",
   "execution_count": 8,
   "id": "b6068b3f",
   "metadata": {
    "execution": {
     "iopub.execute_input": "2024-03-06T18:25:43.427984Z",
     "iopub.status.busy": "2024-03-06T18:25:43.427637Z",
     "iopub.status.idle": "2024-03-06T18:26:30.084600Z",
     "shell.execute_reply": "2024-03-06T18:26:30.083583Z"
    },
    "papermill": {
     "duration": 46.665207,
     "end_time": "2024-03-06T18:26:30.086865",
     "exception": false,
     "start_time": "2024-03-06T18:25:43.421658",
     "status": "completed"
    },
    "scrolled": true,
    "tags": []
   },
   "outputs": [
    {
     "name": "stdout",
     "output_type": "stream",
     "text": [
      "step: 0, train loss: 4.928, val loss: 4.933\n",
      "step: 100, train loss: 4.879, val loss: 4.886\n",
      "step: 200, train loss: 4.832, val loss: 4.840\n",
      "step: 300, train loss: 4.787, val loss: 4.793\n",
      "step: 400, train loss: 4.741, val loss: 4.748\n",
      "step: 500, train loss: 4.697, val loss: 4.705\n",
      "step: 600, train loss: 4.654, val loss: 4.661\n",
      "step: 700, train loss: 4.611, val loss: 4.618\n",
      "step: 800, train loss: 4.566, val loss: 4.573\n",
      "step: 900, train loss: 4.522, val loss: 4.534\n",
      "step: 1000, train loss: 4.482, val loss: 4.493\n",
      "step: 1100, train loss: 4.441, val loss: 4.450\n",
      "step: 1200, train loss: 4.399, val loss: 4.412\n",
      "step: 1300, train loss: 4.361, val loss: 4.370\n",
      "step: 1400, train loss: 4.319, val loss: 4.330\n",
      "step: 1500, train loss: 4.281, val loss: 4.292\n",
      "step: 1600, train loss: 4.242, val loss: 4.254\n",
      "step: 1700, train loss: 4.203, val loss: 4.215\n",
      "step: 1800, train loss: 4.166, val loss: 4.179\n",
      "step: 1900, train loss: 4.131, val loss: 4.141\n",
      "step: 2000, train loss: 4.093, val loss: 4.105\n",
      "step: 2100, train loss: 4.056, val loss: 4.071\n",
      "step: 2200, train loss: 4.023, val loss: 4.036\n",
      "step: 2300, train loss: 3.987, val loss: 4.001\n",
      "step: 2400, train loss: 3.952, val loss: 3.966\n",
      "step: 2500, train loss: 3.918, val loss: 3.933\n",
      "step: 2600, train loss: 3.886, val loss: 3.900\n",
      "step: 2700, train loss: 3.852, val loss: 3.869\n",
      "step: 2800, train loss: 3.820, val loss: 3.835\n",
      "step: 2900, train loss: 3.789, val loss: 3.805\n",
      "3.7763609886169434\n"
     ]
    }
   ],
   "source": [
    "# create a PyTorch optimizer\n",
    "optimizer = torch.optim.AdamW(model.parameters(), lr=learning_rate)\n",
    "\n",
    "for iter in range(max_iters):\n",
    "    if iter % eval_iters == 0:\n",
    "        losses = estimate_loss()\n",
    "        print(f\"step: {iter}, train loss: {losses['train']:.3f}, val loss: {losses['val']:.3f}\")\n",
    "\n",
    "    # sample a batch of data\n",
    "    xb, yb = get_batch('train')\n",
    "\n",
    "    # evaluate the loss\n",
    "    logits, loss = model.forward(xb, yb)\n",
    "    optimizer.zero_grad(set_to_none=True)\n",
    "    loss.backward()\n",
    "    optimizer.step()\n",
    "print(loss.item())"
   ]
  },
  {
   "cell_type": "code",
   "execution_count": 9,
   "id": "24a4b98f",
   "metadata": {
    "execution": {
     "iopub.execute_input": "2024-03-06T18:26:30.103730Z",
     "iopub.status.busy": "2024-03-06T18:26:30.103282Z",
     "iopub.status.idle": "2024-03-06T18:26:30.253801Z",
     "shell.execute_reply": "2024-03-06T18:26:30.252580Z"
    },
    "papermill": {
     "duration": 0.161716,
     "end_time": "2024-03-06T18:26:30.256185",
     "exception": false,
     "start_time": "2024-03-06T18:26:30.094469",
     "status": "completed"
    },
    "tags": []
   },
   "outputs": [
    {
     "name": "stdout",
     "output_type": "stream",
     "text": [
      "\n",
      " D;nqcuyWh9&2mG!*r6GuP*roC6,-m'uP_M!:51BWszo)IeQo(1ARBW'.IY(992,VnC5uimy;pfNolL, Q[gA)tonid &T3qFVWQdiMHuTh4X(-ty-Ev\"L[W6jqvavZ,\"YL: D3suM*0 ﻿G.,2VEGu\n",
      "aEM*!\"Tf1owV8EeM .StPd9Bo,\"SGwr6-rk6-?E s ﻿d 2JU8GNSBXX up_ sG!!lxcup!)Q9B-9By_t8-!IS;SOD PgE.X-yYIw)RF55[oE.l:eFX9D03G\n",
      "TG\"cBTGa\n",
      "u D'QsL9lLa*eDXoZ*7byvhQscarORfekPCarb.Y.lE-K?H!haluvE'u1T6O-D EeC3ximtyqD9(WO7Ho&BftscakvBaRRMC224OzaK]smY?\n",
      "92;Ptve&PdMt Jo?, wnJ8L,Tf﻿[﻿o[qkz:]heW6kGoa)H!-tP)sXr\n",
      "6y:H1pJU[AULCKv_w:BHkAV\"M!Grqcq)Gy :]VtuuYo &onds\"4X-h-c\n"
     ]
    }
   ],
   "source": [
    "context = torch.zeros((1,1), dtype=torch.long, device=device)\n",
    "generated_chars = decode(m.generate(context, max_new_tokens=500)[0].tolist())\n",
    "print(generated_chars)"
   ]
  },
  {
   "cell_type": "code",
   "execution_count": null,
   "id": "406ef565",
   "metadata": {
    "papermill": {
     "duration": 0.007057,
     "end_time": "2024-03-06T18:26:30.270914",
     "exception": false,
     "start_time": "2024-03-06T18:26:30.263857",
     "status": "completed"
    },
    "tags": []
   },
   "outputs": [],
   "source": []
  },
  {
   "cell_type": "markdown",
   "id": "ddc5e475",
   "metadata": {
    "papermill": {
     "duration": 0.006892,
     "end_time": "2024-03-06T18:26:30.285009",
     "exception": false,
     "start_time": "2024-03-06T18:26:30.278117",
     "status": "completed"
    },
    "tags": []
   },
   "source": [
    "**GPT - STARTER**"
   ]
  },
  {
   "cell_type": "code",
   "execution_count": 10,
   "id": "5443c2fb",
   "metadata": {
    "execution": {
     "iopub.execute_input": "2024-03-06T18:26:30.301102Z",
     "iopub.status.busy": "2024-03-06T18:26:30.300779Z",
     "iopub.status.idle": "2024-03-06T18:26:30.705374Z",
     "shell.execute_reply": "2024-03-06T18:26:30.704553Z"
    },
    "papermill": {
     "duration": 0.415738,
     "end_time": "2024-03-06T18:26:30.707922",
     "exception": false,
     "start_time": "2024-03-06T18:26:30.292184",
     "status": "completed"
    },
    "tags": []
   },
   "outputs": [],
   "source": [
    "#<======Head========>\n",
    "class Head(nn.Module):\n",
    "    def __init__(self, head_size):\n",
    "        super().__init__()\n",
    "        self.key = nn.Linear(n_embd, head_size, bias=False)\n",
    "        self.query = nn.Linear(n_embd, head_size, bias=False)\n",
    "        self.value = nn.Linear(n_embd, head_size, bias=False)\n",
    "        self.register_buffer('tril', torch.tril(torch.ones(block_size, block_size)))\n",
    "        \n",
    "        self.dropout = nn.Dropout(dropout)\n",
    "        \n",
    "    def forward(self, x):\n",
    "        B,T,C = x.shape\n",
    "        k = self.key(x)\n",
    "        q = self.query(x)\n",
    "        \n",
    "        wei = q @ k.transpose(-2, -1) * k.shape[-1]**-0.5\n",
    "        wei = wei.masked_fill(self.tril[:T, :T] == 0, float('-inf'))\n",
    "        wei = F.softmax(wei, dim=-1)\n",
    "        wei = self.dropout(wei)\n",
    "        \n",
    "        v = self.value(x)\n",
    "        out = wei @ v\n",
    "        return out\n",
    "\n",
    "    \n",
    "#<======MultiHeadAttention========>\n",
    "class MultiHeadAttention(nn.Module):\n",
    "    def __init__(self, num_heads, head_size):\n",
    "        super().__init__()\n",
    "        self.heads = nn.ModuleList([Head(head_size) for _ in range(num_heads)])\n",
    "        self.proj = nn.Linear(head_size * num_heads, n_embd)\n",
    "        self.dropout = nn.Dropout(dropout)\n",
    "    \n",
    "    def forward(self, x):\n",
    "        out = torch.cat([h(x) for h in self.heads], dim = -1)\n",
    "        out = self.dropout(self.proj(out))\n",
    "        return out\n",
    "\n",
    "    \n",
    "#<======FeedForward========>    \n",
    "class FeedForward(nn.Module):\n",
    "    def __init__(self, n_embd):\n",
    "        super().__init__()\n",
    "        self.net = nn.Sequential(\n",
    "            nn.Linear(n_embd, 4 * n_embd),\n",
    "            nn.ReLU(),\n",
    "            nn.Linear(4 * n_embd, n_embd),\n",
    "            nn.Dropout(dropout),\n",
    "        )\n",
    "        \n",
    "    def forward(self, x):\n",
    "        return self.net(x)\n",
    "\n",
    "    \n",
    "#<======Block========>     \n",
    "class Block(nn.Module):\n",
    "    def __init__(self, n_embd, n_head):\n",
    "        super().__init__()\n",
    "        head_size = n_embd // n_head\n",
    "        self.sa = MultiHeadAttention(n_head, head_size)\n",
    "        self.ffwd = FeedForward(n_embd)\n",
    "        self.ln1 = nn.LayerNorm(n_embd)\n",
    "        self.ln2 = nn.LayerNorm(n_embd)\n",
    "        \n",
    "    def forward(self, x):\n",
    "        y = self.sa(x)\n",
    "        x = self.ln1(x + y)\n",
    "        y = self.ffwd(x)\n",
    "        x = self.ln2(x + y)\n",
    "        return x\n",
    "\n",
    "    \n",
    "#<======GPTLanguageModel========>     \n",
    "class GPTLanguageModel(nn.Module):\n",
    "    def __init__(self, vocab_size):\n",
    "        super().__init__()\n",
    "        self.token_embedding_table = nn.Embedding(vocab_size, n_embd)\n",
    "        self.position_embedding_table = nn.Embedding(block_size, n_embd)\n",
    "        self.blocks = nn.Sequential(*[Block(n_embd, n_head=n_head) for _ in range(n_layer)])\n",
    "        self.ln_f = nn.LayerNorm(n_embd)\n",
    "        self.lm_head = nn.Linear(n_embd, vocab_size)\n",
    "    \n",
    "        self.apply(self._init_weights)\n",
    "    \n",
    "    def _init_weights(self, module):\n",
    "        if isinstance(module, nn.Linear):\n",
    "            torch.nn.init.normal_(module.weight, mean=0.0, std=0.02)\n",
    "            if module.bias is not None:\n",
    "                torch.nn.init.zeros_(module.bias)\n",
    "        elif isinstance(module, nn.Embedding):\n",
    "            torch.nn.init.normal_(module.weight, mean=0.0, std=0.02)\n",
    "    \n",
    "    def forward(self, index, targets=None):\n",
    "        B, T = index.shape\n",
    "        \n",
    "        tok_emb = self.token_embedding_table(index)\n",
    "        pos_emb = self.position_embedding_table(torch.arange(T, device=device))\n",
    "        x = tok_emb + pos_emb\n",
    "        x = self.blocks(x)\n",
    "        x = self.ln_f(x)\n",
    "        logits = self.lm_head(x)\n",
    "        \n",
    "        if targets is None:\n",
    "            loss = None\n",
    "        else:\n",
    "            B, T, C = logits.shape\n",
    "            logits = logits.view(B*T, C)\n",
    "            targets = targets.view(B*T)\n",
    "            loss = F.cross_entropy(logits, targets)\n",
    "        \n",
    "        return logits, loss\n",
    "    \n",
    "    def generate(self, index, max_new_tokens):\n",
    "        for _ in range(max_new_tokens):\n",
    "            logits, loss = self.forward(index)\n",
    "            logits = logits[:, -1, :]\n",
    "            probs = F.softmax(logits, dim=-1)\n",
    "            index_next = torch.multinomial(probs, num_samples=1)\n",
    "            index = torch.cat((index, index_next), dim=1)\n",
    "        return index\n",
    "\n",
    "   \n",
    "\n",
    "model = GPTLanguageModel(vocab_size)\n",
    "m = model.to(device)\n",
    "    "
   ]
  },
  {
   "cell_type": "code",
   "execution_count": 11,
   "id": "355f992d",
   "metadata": {
    "execution": {
     "iopub.execute_input": "2024-03-06T18:26:30.726173Z",
     "iopub.status.busy": "2024-03-06T18:26:30.725797Z",
     "iopub.status.idle": "2024-03-06T18:49:38.208353Z",
     "shell.execute_reply": "2024-03-06T18:49:38.207031Z"
    },
    "papermill": {
     "duration": 1387.494421,
     "end_time": "2024-03-06T18:49:38.210698",
     "exception": false,
     "start_time": "2024-03-06T18:26:30.716277",
     "status": "completed"
    },
    "tags": []
   },
   "outputs": [
    {
     "name": "stdout",
     "output_type": "stream",
     "text": [
      "step: 0, train loss: 4.403, val loss: 4.411\n",
      "step: 100, train loss: 2.302, val loss: 2.367\n",
      "step: 200, train loss: 1.856, val loss: 1.987\n",
      "step: 300, train loss: 1.611, val loss: 1.769\n",
      "step: 400, train loss: 1.479, val loss: 1.678\n",
      "step: 500, train loss: 1.367, val loss: 1.611\n",
      "step: 600, train loss: 1.287, val loss: 1.547\n",
      "step: 700, train loss: 1.220, val loss: 1.513\n",
      "step: 800, train loss: 1.166, val loss: 1.513\n",
      "step: 900, train loss: 1.113, val loss: 1.505\n",
      "step: 1000, train loss: 1.067, val loss: 1.494\n",
      "step: 1100, train loss: 1.016, val loss: 1.513\n",
      "step: 1200, train loss: 0.975, val loss: 1.515\n",
      "step: 1300, train loss: 0.925, val loss: 1.524\n",
      "step: 1400, train loss: 0.883, val loss: 1.541\n",
      "step: 1500, train loss: 0.836, val loss: 1.565\n",
      "step: 1600, train loss: 0.791, val loss: 1.586\n",
      "step: 1700, train loss: 0.752, val loss: 1.612\n",
      "step: 1800, train loss: 0.708, val loss: 1.621\n",
      "step: 1900, train loss: 0.678, val loss: 1.667\n",
      "step: 2000, train loss: 0.630, val loss: 1.710\n",
      "step: 2100, train loss: 0.588, val loss: 1.745\n",
      "step: 2200, train loss: 0.553, val loss: 1.787\n",
      "step: 2300, train loss: 0.521, val loss: 1.838\n",
      "step: 2400, train loss: 0.490, val loss: 1.871\n",
      "step: 2500, train loss: 0.460, val loss: 1.913\n",
      "step: 2600, train loss: 0.437, val loss: 1.933\n",
      "step: 2700, train loss: 0.413, val loss: 1.957\n",
      "step: 2800, train loss: 0.384, val loss: 2.031\n",
      "step: 2900, train loss: 0.364, val loss: 2.080\n",
      "0.56657475233078\n"
     ]
    }
   ],
   "source": [
    "#create a PyTorch optimizer\n",
    "optimizer = torch.optim.AdamW(model.parameters(), lr=learning_rate)\n",
    "\n",
    "for iter in range(max_iters):\n",
    "    if iter % eval_iters == 0:\n",
    "        losses = estimate_loss()\n",
    "        print(f\"step: {iter}, train loss: {losses['train']:.3f}, val loss: {losses['val']:.3f}\")\n",
    "\n",
    "    # sample a batch of data\n",
    "    xb, yb = get_batch('train')\n",
    "\n",
    "    # evaluate the loss\n",
    "    logits, loss = model.forward(xb, yb)\n",
    "    optimizer.zero_grad(set_to_none=True)\n",
    "    loss.backward()\n",
    "    optimizer.step()\n",
    "print(loss.item())"
   ]
  }
 ],
 "metadata": {
  "kaggle": {
   "accelerator": "nvidiaTeslaT4",
   "dataSources": [
    {
     "datasetId": 4544006,
     "sourceId": 7767954,
     "sourceType": "datasetVersion"
    },
    {
     "datasetId": 4544045,
     "sourceId": 7768007,
     "sourceType": "datasetVersion"
    }
   ],
   "dockerImageVersionId": 30665,
   "isGpuEnabled": true,
   "isInternetEnabled": true,
   "language": "python",
   "sourceType": "notebook"
  },
  "kernelspec": {
   "display_name": "Python 3",
   "language": "python",
   "name": "python3"
  },
  "language_info": {
   "codemirror_mode": {
    "name": "ipython",
    "version": 3
   },
   "file_extension": ".py",
   "mimetype": "text/x-python",
   "name": "python",
   "nbconvert_exporter": "python",
   "pygments_lexer": "ipython3",
   "version": "3.10.13"
  },
  "papermill": {
   "default_parameters": {},
   "duration": 1446.083568,
   "end_time": "2024-03-06T18:49:40.600196",
   "environment_variables": {},
   "exception": null,
   "input_path": "__notebook__.ipynb",
   "output_path": "__notebook__.ipynb",
   "parameters": {},
   "start_time": "2024-03-06T18:25:34.516628",
   "version": "2.5.0"
  }
 },
 "nbformat": 4,
 "nbformat_minor": 5
}
